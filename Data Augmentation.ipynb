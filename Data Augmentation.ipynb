{
 "cells": [
  {
   "cell_type": "markdown",
   "metadata": {},
   "source": [
    "# Brain MRI Images for Brain Tumor Detection\n",
    "## Image Augmentation"
   ]
  },
  {
   "cell_type": "markdown",
   "metadata": {},
   "source": [
    "The Brain MRI Images for Brain Tumor Detection two types of data, tumorous and non-tumorous. The creator of the data set\n",
    "did not specify what types of tumors are present in the toumorus data, so all data with tumors can be treated as potentially \n",
    "the same.\n",
    "\n",
    "The data is divided up into 2 folders on download; a \"yes\" folder containing the toumorus data and a \"no\" folder containing the non-tumorous data.\n",
    "In total there are 253 Brain MRI Images, not a substantial number as we are used to in deep learning. The data is split such that\n",
    "there are 155 samples that are tumorous and 98 samples that are that are non-tumorous. \n",
    "Because of this low sample count, it is imperative that we use some kind of image augmentation to a) provide more samples and b)\n",
    "to provide more variety in the population to help prevent overfiting. We will also correct for the imbalance of the dataset in\n",
    "the augmentation phase as well.\n",
    "\n",
    "You can find the original data [here](https://www.kaggle.com/navoneel/brain-mri-images-for-brain-tumor-detection)."
   ]
  },
  {
   "cell_type": "code",
   "execution_count": 7,
   "metadata": {
    "pycharm": {
     "is_executing": false
    }
   },
   "outputs": [],
   "source": [
    "from tensorflow.keras.preprocessing.image import ImageDataGenerator\n",
    "import glob\n",
    "import cv2\n",
    "\n",
    "%matplotlib inline"
   ]
  },
  {
   "cell_type": "code",
   "execution_count": 16,
   "metadata": {
    "pycharm": {
     "is_executing": false
    }
   },
   "outputs": [],
   "source": [
    "def augment_data(file_loc, n_samples, save_loc):\n",
    "    data_gen = ImageDataGenerator(rotation_range=45, \n",
    "                                  width_shift_range=0.15, \n",
    "                                  height_shift_range=0.15, \n",
    "                                  shear_range=0.15, \n",
    "                                  brightness_range=(0.3, 1.0),\n",
    "                                  horizontal_flip=True, \n",
    "                                  vertical_flip=True, \n",
    "                                  fill_mode=\"nearest\")\n",
    "    \n",
    "    for file in glob.glob(file_loc + \"*\"):\n",
    "        image = cv2.imread(file)\n",
    "        image = image.reshape((1,) + image.shape)\n",
    "        \n",
    "        # generate augmented samples\n",
    "        for i in range(n_samples):\n",
    "            data_gen.flow(x=image, batch_size=1, save_to_dir=save_loc, save_format=\"jpg\")"
   ]
  },
  {
   "cell_type": "markdown",
   "metadata": {},
   "source": [
    "To correct for the class imbalance talked about above, we will generate 9 new images for every image that belongs to the\n",
    "negative (non-tumurous) class and 6 images for every image that belongs to the positive (tumurous) class."
   ]
  },
  {
   "cell_type": "code",
   "execution_count": 17,
   "metadata": {
    "pycharm": {
     "is_executing": false
    }
   },
   "outputs": [],
   "source": [
    "yes_path = \"./data/raw/yes/\"\n",
    "no_path = \"./data/raw/no/\"\n",
    "\n",
    "aug_data_path = \"./data/augmented/\"\n",
    "\n",
    "# augment tumurous examples\n",
    "augment_data(file_loc=yes_path, n_samples=6, save_loc=aug_data_path + \"yes/\")\n",
    "# augment non-tumurous examples\n",
    "augment_data(file_loc=no_path, n_samples=9, save_loc=aug_data_path + \"no/\")"
   ]
  },
  {
   "cell_type": "markdown",
   "metadata": {
    "pycharm": {
     "name": "#%% md\n"
    }
   },
   "source": [
    "We now have our data prepared to train our deep CNN."
   ]
  }
 ],
 "metadata": {
  "kernelspec": {
   "display_name": "Python 3",
   "language": "python",
   "name": "python3"
  },
  "language_info": {
   "codemirror_mode": {
    "name": "ipython",
    "version": 3
   },
   "file_extension": ".py",
   "mimetype": "text/x-python",
   "name": "python",
   "nbconvert_exporter": "python",
   "pygments_lexer": "ipython3",
   "version": "3.6.7"
  },
  "pycharm": {
   "stem_cell": {
    "cell_type": "raw",
    "source": [],
    "metadata": {
     "collapsed": false
    }
   }
  }
 },
 "nbformat": 4,
 "nbformat_minor": 2
}